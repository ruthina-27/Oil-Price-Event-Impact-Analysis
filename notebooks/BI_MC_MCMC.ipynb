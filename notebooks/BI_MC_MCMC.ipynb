{
 "cells": [
  {
   "cell_type": "code",
   "execution_count": null,
   "metadata": {
    "executionInfo": {
     "elapsed": 6985,
     "status": "ok",
     "timestamp": 1740136527206,
     "user": {
      "displayName": "Elias Assamnew",
      "userId": "13389606340569019259"
     },
     "user_tz": -180
    },
    "id": "_400bUj66QQt"
   },
   "outputs": [],
   "source": [
    "%pip install pymc arviz matplotlib pandas numpy --quiet"
   ]
  },
  {
   "cell_type": "code",
   "execution_count": null,
   "metadata": {
    "executionInfo": {
     "elapsed": 8855,
     "status": "ok",
     "timestamp": 1740136555531,
     "user": {
      "displayName": "Elias Assamnew",
      "userId": "13389606340569019259"
     },
     "user_tz": -180
    },
    "id": "_ZSA1Kg47hXW"
   },
   "outputs": [],
   "source": [
    "import pymc as pm\n",
    "import numpy as np\n",
    "import matplotlib.pyplot as plt\n",
    "import arviz as az\n",
    "import pandas as pd"
   ]
  },
  {
   "cell_type": "code",
   "execution_count": null,
   "metadata": {},
   "outputs": [],
   "source": [
    "import pandas as pd\n",
    "import matplotlib.pyplot as plt\n",
    "from statsmodels.tsa.stattools import adfuller\n",
    "\n",
    "# Load Brent oil price data\n",
    "brent = pd.read_csv('BrentOilPrices.csv', parse_dates=['Date'], dayfirst=True)\n",
    "print(brent.head())\n",
    "print(brent.info())\n",
    "print(brent.describe())\n",
    "print(brent.isnull().sum())"
   ]
  },
  {
   "cell_type": "code",
   "execution_count": null,
   "metadata": {},
   "outputs": [],
   "source": [
    "# Plot the time series\n",
    "plt.figure(figsize=(15,5))\n",
    "plt.plot(brent['Date'], brent['Price'])\n",
    "plt.title('Brent Oil Prices Over Time')\n",
    "plt.xlabel('Date')\n",
    "plt.ylabel('Price (USD/barrel)')\n",
    "plt.show()\n",
    "\n",
    "# Rolling statistics\n",
    "brent['RollingMean'] = brent['Price'].rolling(window=365).mean()\n",
    "brent['RollingStd'] = brent['Price'].rolling(window=365).std()\n",
    "\n",
    "plt.figure(figsize=(15,5))\n",
    "plt.plot(brent['Date'], brent['Price'], label='Price')\n",
    "plt.plot(brent['Date'], brent['RollingMean'], label='Rolling Mean (1 year)')\n",
    "plt.plot(brent['Date'], brent['RollingStd'], label='Rolling Std (1 year)')\n",
    "plt.legend()\n",
    "plt.show()\n",
    "\n",
    "# Stationarity test\n",
    "result = adfuller(brent['Price'].dropna())\n",
    "print('ADF Statistic:', result[0])\n",
    "print('p-value:', result[1])"
   ]
  },
  {
   "cell_type": "code",
   "execution_count": null,
   "metadata": {},
   "outputs": [],
   "source": [
    "events = pd.read_csv('MajorEvents.csv', parse_dates=['Start Date'])\n",
    "print(events)"
   ]
  },
  {
   "cell_type": "code",
   "execution_count": null,
   "metadata": {},
   "outputs": [],
   "source": [
    "import pymc3 as pm\n",
    "import numpy as np\n",
    "\n",
    "prices = brent['Price'].values[-2000:]\n",
    "\n",
    "with pm.Model() as model:\n",
    "    cp = pm.DiscreteUniform('cp', lower=0, upper=len(prices)-1)\n",
    "    mu1 = pm.Normal('mu1', mu=np.mean(prices), sd=np.std(prices))\n",
    "    mu2 = pm.Normal('mu2', mu=np.mean(prices), sd=np.std(prices))\n",
    "    sigma = pm.HalfNormal('sigma', sd=10)\n",
    "    mu = pm.math.switch(cp >= np.arange(len(prices)), mu1, mu2)\n",
    "    obs = pm.Normal('obs', mu=mu, sd=sigma, observed=prices)\n",
    "    trace = pm.sample(2000, tune=1000, cores=2, random_seed=42)\n",
    "\n",
    "pm.plot_posterior(trace, var_names=['cp'])"
   ]
  },
  {
   "cell_type": "markdown",
   "metadata": {
    "id": "OV4GZFU96wvV"
   },
   "source": [
    "## Case 1: Bayesian Inference Calculation (Manual Computation)\n",
    "First, we update the prior using observed data without Monte Carlo."
   ]
  },
  {
   "cell_type": "code",
   "execution_count": null,
   "metadata": {
    "executionInfo": {
     "elapsed": 43,
     "status": "ok",
     "timestamp": 1740136544639,
     "user": {
      "displayName": "Elias Assamnew",
      "userId": "13389606340569019259"
     },
     "user_tz": -180
    },
    "id": "TQ9S4zRGAvxz"
   },
   "outputs": [],
   "source": [
    "# Given Data\n",
    "prior_mean = 5      # Prior belief (average oil price increase in $)\n",
    "prior_std = 2       # Prior uncertainty\n",
    "likelihood_mean = 8  # Observed data suggests price change of $8 per barrel\n",
    "likelihood_std = 3   # Observed standard deviation\n",
    "n = 10   # Number of observations"
   ]
  },
  {
   "cell_type": "code",
   "execution_count": null,
   "metadata": {
    "executionInfo": {
     "elapsed": 13,
     "status": "ok",
     "timestamp": 1740136567534,
     "user": {
      "displayName": "Elias Assamnew",
      "userId": "13389606340569019259"
     },
     "user_tz": -180
    },
    "id": "hKJnmwoU6cuI"
   },
   "outputs": [],
   "source": [
    "# Compute Posterior Mean and Variance\n",
    "posterior_mean = ( (likelihood_std**2 * prior_mean) + (n * prior_std**2 * likelihood_mean) ) / (likelihood_std**2 + n * prior_std**2)\n",
    "posterior_variance = (likelihood_std**2 * prior_std**2) / (likelihood_std**2 + n * prior_std**2)\n",
    "posterior_std = np.sqrt(posterior_variance)\n"
   ]
  },
  {
   "cell_type": "code",
   "execution_count": null,
   "metadata": {
    "colab": {
     "base_uri": "https://localhost:8080/"
    },
    "executionInfo": {
     "elapsed": 159,
     "status": "ok",
     "timestamp": 1740136570549,
     "user": {
      "displayName": "Elias Assamnew",
      "userId": "13389606340569019259"
     },
     "user_tz": -180
    },
    "id": "mycuo7k0A450",
    "outputId": "33f49feb-2672-4cc2-8a1d-03d1ca3ed401"
   },
   "outputs": [],
   "source": [
    "# Print Results\n",
    "print(f\"Posterior Mean: {posterior_mean:.3f}\")\n",
    "print(f\"Posterior Std Dev: {posterior_std:.3f}\")"
   ]
  },
  {
   "cell_type": "markdown",
   "metadata": {
    "id": "u3UbX5MS7GiJ"
   },
   "source": [
    "## Case 2: Monte Carlo (MC) Approximation\n",
    "We use random sampling from the prior and likelihood to approximate the posterior."
   ]
  },
  {
   "cell_type": "code",
   "execution_count": null,
   "metadata": {
    "executionInfo": {
     "elapsed": 8,
     "status": "ok",
     "timestamp": 1740136590031,
     "user": {
      "displayName": "Elias Assamnew",
      "userId": "13389606340569019259"
     },
     "user_tz": -180
    },
    "id": "ZSe8859bA_gp"
   },
   "outputs": [],
   "source": [
    "# Monte Carlo Sampling\n",
    "num_samples = 10000\n",
    "prior_samples = np.random.normal(prior_mean, prior_std, num_samples)\n",
    "likelihood_samples = np.random.normal(likelihood_mean, likelihood_std, num_samples)"
   ]
  },
  {
   "cell_type": "code",
   "execution_count": null,
   "metadata": {
    "colab": {
     "base_uri": "https://localhost:8080/",
     "height": 472
    },
    "executionInfo": {
     "elapsed": 1020,
     "status": "ok",
     "timestamp": 1740136595619,
     "user": {
      "displayName": "Elias Assamnew",
      "userId": "13389606340569019259"
     },
     "user_tz": -180
    },
    "id": "OJiTD27369i2",
    "outputId": "d4cbe12e-cc9b-48b8-d7d6-140f94874471"
   },
   "outputs": [],
   "source": [
    "\n",
    "# Compute Weighted Posterior Samples\n",
    "posterior_samples = (prior_samples + likelihood_samples) / 2  # Simple weighting approach\n",
    "\n",
    "# Plot Results\n",
    "plt.hist(posterior_samples, bins=50, density=True, alpha=0.6, label=\"Monte Carlo Approximation\")\n",
    "plt.axvline(posterior_mean, color='r', linestyle='dashed', label=\"Analytical Posterior Mean\")\n",
    "plt.xlabel(\"Oil Price Change ($)\")\n",
    "plt.ylabel(\"Density\")\n",
    "plt.legend()\n",
    "plt.title(\"Monte Carlo Approximation of Bayesian Inference\")\n",
    "plt.show()\n"
   ]
  },
  {
   "cell_type": "markdown",
   "metadata": {
    "id": "A9wLgNQiBHdF"
   },
   "source": [
    "### Step 3: Markov Chain Monte Carlo (MCMC) with PyMC\n",
    "We now use MCMC sampling to approximate the true posterior.\n",
    "\n",
    "python\n",
    "Copy\n",
    "Edit\n"
   ]
  },
  {
   "cell_type": "markdown",
   "metadata": {
    "id": "oEcKwmGp7Urk"
   },
   "source": []
  },
  {
   "cell_type": "code",
   "execution_count": null,
   "metadata": {
    "colab": {
     "base_uri": "https://localhost:8080/",
     "height": 646,
     "referenced_widgets": [
      "bba05bd7e25f49f38ed1bc35b5eca2fb",
      "36256057a4dd4a259adffc16c92f2092"
     ]
    },
    "executionInfo": {
     "elapsed": 37682,
     "status": "ok",
     "timestamp": 1740136665670,
     "user": {
      "displayName": "Elias Assamnew",
      "userId": "13389606340569019259"
     },
     "user_tz": -180
    },
    "id": "LGfomCId7VNx",
    "outputId": "2a919740-a2fc-46c1-b3e4-c4c1fdf0688f"
   },
   "outputs": [],
   "source": [
    "import pymc as pm\n",
    "import arviz as az\n",
    "\n",
    "# Bayesian Modeling with PyMC\n",
    "with pm.Model() as model:\n",
    "    theta = pm.Normal(\"theta\", mu=prior_mean, sigma=prior_std)  # Prior\n",
    "    likelihood = pm.Normal(\"likelihood\", mu=theta, sigma=likelihood_std, observed=[8]*10)  # Observed Data\n",
    "    trace = pm.sample(2000, tune=1000, return_inferencedata=True)\n",
    "\n",
    "# Plot Posterior Distribution\n",
    "az.plot_posterior(trace, var_names=[\"theta\"])\n",
    "plt.title(\"Posterior Distribution from MCMC Sampling\")\n",
    "plt.show()\n",
    "\n",
    "# Display Summary\n",
    "summary = az.summary(trace, var_names=[\"theta\"])\n",
    "print(summary)\n"
   ]
  },
  {
   "cell_type": "code",
   "execution_count": null,
   "metadata": {},
   "outputs": [],
   "source": []
  }
 ],
 "metadata": {
  "colab": {
   "authorship_tag": "ABX9TyNWynNhPxZCS5/udiDmcyTd",
   "provenance": []
  },
  "kernelspec": {
   "display_name": ".venv",
   "language": "python",
   "name": "python3"
  },
  "language_info": {
   "codemirror_mode": {
    "name": "ipython",
    "version": 3
   },
   "file_extension": ".py",
   "mimetype": "text/x-python",
   "name": "python",
   "nbconvert_exporter": "python",
   "pygments_lexer": "ipython3",
   "version": "3.13.3"
  },
  "widgets": {
   "application/vnd.jupyter.widget-state+json": {
    "36256057a4dd4a259adffc16c92f2092": {
     "model_module": "@jupyter-widgets/base",
     "model_module_version": "1.2.0",
     "model_name": "LayoutModel",
     "state": {
      "_model_module": "@jupyter-widgets/base",
      "_model_module_version": "1.2.0",
      "_model_name": "LayoutModel",
      "_view_count": null,
      "_view_module": "@jupyter-widgets/base",
      "_view_module_version": "1.2.0",
      "_view_name": "LayoutView",
      "align_content": null,
      "align_items": null,
      "align_self": null,
      "border": null,
      "bottom": null,
      "display": null,
      "flex": null,
      "flex_flow": null,
      "grid_area": null,
      "grid_auto_columns": null,
      "grid_auto_flow": null,
      "grid_auto_rows": null,
      "grid_column": null,
      "grid_gap": null,
      "grid_row": null,
      "grid_template_areas": null,
      "grid_template_columns": null,
      "grid_template_rows": null,
      "height": null,
      "justify_content": null,
      "justify_items": null,
      "left": null,
      "margin": null,
      "max_height": null,
      "max_width": null,
      "min_height": null,
      "min_width": null,
      "object_fit": null,
      "object_position": null,
      "order": null,
      "overflow": null,
      "overflow_x": null,
      "overflow_y": null,
      "padding": null,
      "right": null,
      "top": null,
      "visibility": null,
      "width": null
     }
    },
    "bba05bd7e25f49f38ed1bc35b5eca2fb": {
     "model_module": "@jupyter-widgets/output",
     "model_module_version": "1.0.0",
     "model_name": "OutputModel",
     "state": {
      "_dom_classes": [],
      "_model_module": "@jupyter-widgets/output",
      "_model_module_version": "1.0.0",
      "_model_name": "OutputModel",
      "_view_count": null,
      "_view_module": "@jupyter-widgets/output",
      "_view_module_version": "1.0.0",
      "_view_name": "OutputView",
      "layout": "IPY_MODEL_36256057a4dd4a259adffc16c92f2092",
      "msg_id": "",
      "outputs": [
       {
        "data": {
         "text/html": "<pre style=\"white-space:pre;overflow-x:auto;line-height:normal;font-family:Menlo,'DejaVu Sans Mono',consolas,'Courier New',monospace\">                                                                                                                   \n <span style=\"font-weight: bold\"> Progress                 </span> <span style=\"font-weight: bold\"> Draws </span> <span style=\"font-weight: bold\"> Divergences </span> <span style=\"font-weight: bold\"> Step size </span> <span style=\"font-weight: bold\"> Grad evals </span> <span style=\"font-weight: bold\"> Sampling Speed  </span> <span style=\"font-weight: bold\"> Elapsed </span> <span style=\"font-weight: bold\"> Remaining </span> \n ───────────────────────────────────────────────────────────────────────────────────────────────────────────────── \n  <span style=\"color: #1f77b4; text-decoration-color: #1f77b4\">━━━━━━━━━━━━━━━━━━━━━━━━</span>   3000    0             1.05        3            2601.86 draws/s   0:00:01   0:00:00    \n  <span style=\"color: #1f77b4; text-decoration-color: #1f77b4\">━━━━━━━━━━━━━━━━━━━━━━━━</span>   3000    0             1.20        3            1378.30 draws/s   0:00:02   0:00:00    \n                                                                                                                   \n</pre>\n",
         "text/plain": "                                                                                                                   \n \u001b[1m \u001b[0m\u001b[1mProgress                \u001b[0m\u001b[1m \u001b[0m \u001b[1m \u001b[0m\u001b[1mDraws\u001b[0m\u001b[1m \u001b[0m \u001b[1m \u001b[0m\u001b[1mDivergences\u001b[0m\u001b[1m \u001b[0m \u001b[1m \u001b[0m\u001b[1mStep size\u001b[0m\u001b[1m \u001b[0m \u001b[1m \u001b[0m\u001b[1mGrad evals\u001b[0m\u001b[1m \u001b[0m \u001b[1m \u001b[0m\u001b[1mSampling Speed \u001b[0m\u001b[1m \u001b[0m \u001b[1m \u001b[0m\u001b[1mElapsed\u001b[0m\u001b[1m \u001b[0m \u001b[1m \u001b[0m\u001b[1mRemaining\u001b[0m\u001b[1m \u001b[0m \n ───────────────────────────────────────────────────────────────────────────────────────────────────────────────── \n  \u001b[38;2;31;119;180m━━━━━━━━━━━━━━━━━━━━━━━━\u001b[0m   3000    0             1.05        3            2601.86 draws/s   0:00:01   0:00:00    \n  \u001b[38;2;31;119;180m━━━━━━━━━━━━━━━━━━━━━━━━\u001b[0m   3000    0             1.20        3            1378.30 draws/s   0:00:02   0:00:00    \n                                                                                                                   \n"
        },
        "metadata": {},
        "output_type": "display_data"
       }
      ]
     }
    }
   }
  }
 },
 "nbformat": 4,
 "nbformat_minor": 0
}
